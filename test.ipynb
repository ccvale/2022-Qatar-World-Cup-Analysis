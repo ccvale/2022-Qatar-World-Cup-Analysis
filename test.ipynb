{
 "cells": [
  {
   "cell_type": "code",
   "execution_count": 2,
   "metadata": {},
   "outputs": [],
   "source": [
    "%matplotlib inline\n",
    "\n",
    "import numpy as np\n",
    "import pandas as pd\n",
    "import matplotlib.pyplot as plt\n",
    "import seaborn as sns\n",
    "import plotly.express as px\n",
    "from plotnine import *\n",
    "import gapminder"
   ]
  },
  {
   "cell_type": "code",
   "execution_count": 9,
   "metadata": {},
   "outputs": [],
   "source": [
    "matches = pd.read_csv('data/match_data.csv')[['home_team', 'away_team', 'attendance', 'venue', 'home_formation', 'away_formation']]\n",
    "matches = matches.rename(columns={'home_team': 'team1', 'away_team': 'team2', 'home_formation': 'formation_team1', 'away_formation': 'formation_team2'})\n",
    "\n",
    "# if team1 or team2 is 'IR Iran', rename it to 'Iran'\n",
    "matches['team1'] = matches['team1'].replace('IR Iran', 'Iran')\n",
    "matches['team2'] = matches['team2'].replace('IR Iran', 'Iran')\n",
    "\n",
    "matches"
   ]
  },
  {
   "cell_type": "code",
   "execution_count": null,
   "metadata": {},
   "outputs": [],
   "source": []
  }
 ],
 "metadata": {
  "kernelspec": {
   "display_name": "Python 3",
   "language": "python",
   "name": "python3"
  },
  "language_info": {
   "codemirror_mode": {
    "name": "ipython",
    "version": 3
   },
   "file_extension": ".py",
   "mimetype": "text/x-python",
   "name": "python",
   "nbconvert_exporter": "python",
   "pygments_lexer": "ipython3",
   "version": "3.11.1"
  },
  "orig_nbformat": 4
 },
 "nbformat": 4,
 "nbformat_minor": 2
}
