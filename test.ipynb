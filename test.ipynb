{
 "cells": [
  {
   "cell_type": "code",
   "execution_count": 1,
   "metadata": {},
   "outputs": [],
   "source": [
    "%matplotlib inline\n",
    "\n",
    "import numpy as np\n",
    "import pandas as pd\n",
    "import matplotlib.pyplot as plt\n",
    "import seaborn as sns\n",
    "import plotly.express as px\n",
    "from plotnine import *\n",
    "import gapminder"
   ]
  },
  {
   "cell_type": "code",
   "execution_count": 8,
   "metadata": {},
   "outputs": [],
   "source": [
    "players = pd.read_csv('player_stats.csv')\n",
    "\n",
    "duplicate_columns = ['player', 'club', 'position', 'age', 'team', 'birth_year', 'minutes_90s']\n",
    "players = players[duplicate_columns]\n",
    "\n",
    "keeper_columns = ['position','team','age','club','birth_year','games','games_starts','minutes','minutes_90s']\n",
    "\n",
    "player_defense = pd.read_csv('player_defense.csv').drop(duplicate_columns[2:], axis=1)\n",
    "player_shooting = pd.read_csv('player_shooting.csv').drop(duplicate_columns[2:], axis=1)\n",
    "player_possession = pd.read_csv('player_possession.csv').drop(duplicate_columns[2:], axis=1)\n",
    "player_keepers = pd.read_csv('player_keepers.csv').drop(keeper_columns, axis=1)\n",
    "\n",
    "\n",
    "\n",
    "\n",
    "\n",
    "\n",
    "# merging all of the above dataframes into one\n",
    "players = players.merge(player_defense, on='player')\n",
    "players = players.merge(player_shooting, on='player')\n",
    "players = players.merge(player_possession, on='player')\n",
    "#players = players.merge(player_misc, on='player')\n",
    "\n",
    "#players = players.merge(player_keepers, on='player') -> for some reason everything fucks up with keepers added\n",
    "\n",
    "\n",
    "players['age'] = players['age'].astype(str).str[:2].astype(int)\n",
    "\n",
    "\n",
    "#players"
   ]
  },
  {
   "cell_type": "code",
   "execution_count": 15,
   "metadata": {},
   "outputs": [
    {
     "data": {
      "text/plain": [
       "Index(['aerials_lost', 'aerials_won', 'aerials_won_pct', 'ball_recoveries',\n",
       "       'cards_red', 'cards_yellow', 'cards_yellow_red', 'crosses', 'fouled',\n",
       "       'fouls', 'offsides', 'own_goals', 'pens_conceded', 'pens_won'],\n",
       "      dtype='object')"
      ]
     },
     "execution_count": 15,
     "metadata": {},
     "output_type": "execute_result"
    }
   ],
   "source": [
    "player_misc = pd.read_csv('player_misc.csv')\n",
    "player_misc = player_misc[player_misc.columns.difference(players.columns)]\n",
    "player_misc.columns"
   ]
  },
  {
   "cell_type": "code",
   "execution_count": null,
   "metadata": {},
   "outputs": [],
   "source": [
    "import seaborn as sns\n",
    "import pandas as pd\n",
    "\n",
    "# Create a sample data frame\n",
    "df = pd.DataFrame({'x': [1, 2, 3, 4, 5, 6, 7, 8, 9, 10],\n",
    "                   'y': [1, 2, 3, 4, 5, 6, 7, 8, 9, 20]})\n",
    "\n",
    "# Create the scatter plot using Seaborn\n",
    "sns.scatterplot(data=df, x='x', y='y')\n",
    "\n",
    "# Find the outliers\n",
    "outliers = df[df['y'] > df['y'].quantile(.75) + 1.5 * (df['y'].quantile(.75) - df['y'].quantile(.25))]\n",
    "\n",
    "# Add labels to the outliers\n",
    "for i, row in outliers.iterrows():\n",
    "    plt.annotate(i, xy=(row['x'], row['y']), xytext=(row['x']+0.1, row['y']+0.1))\n"
   ]
  }
 ],
 "metadata": {
  "kernelspec": {
   "display_name": "Python 3",
   "language": "python",
   "name": "python3"
  },
  "language_info": {
   "codemirror_mode": {
    "name": "ipython",
    "version": 3
   },
   "file_extension": ".py",
   "mimetype": "text/x-python",
   "name": "python",
   "nbconvert_exporter": "python",
   "pygments_lexer": "ipython3",
   "version": "3.11.1"
  },
  "orig_nbformat": 4
 },
 "nbformat": 4,
 "nbformat_minor": 2
}
